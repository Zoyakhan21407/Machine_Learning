{
 "cells": [
  {
   "cell_type": "markdown",
   "id": "ec1f3a39-3345-43d2-a675-577c8bc9af83",
   "metadata": {},
   "source": [
    "# Reading & Writing Data in Python"
   ]
  },
  {
   "cell_type": "markdown",
   "id": "bdc0c681-d0cd-4a5e-8aec-5cf20ccfb054",
   "metadata": {},
   "source": [
    "#### Import Library"
   ]
  },
  {
   "cell_type": "code",
   "execution_count": 3,
   "id": "adf3473d-49d1-49ea-9e79-bc8352dbc310",
   "metadata": {},
   "outputs": [],
   "source": [
    "import pandas as pd\n",
    "import numpy as np"
   ]
  },
  {
   "cell_type": "markdown",
   "id": "748270b6-4a39-40fb-91bd-f48bcc555012",
   "metadata": {},
   "source": [
    "#### read_csv() assumes data has a header"
   ]
  },
  {
   "cell_type": "code",
   "execution_count": 6,
   "id": "02be911b-4d0a-406f-8385-3c5f0b35fdaa",
   "metadata": {},
   "outputs": [],
   "source": [
    "path = \"data.csv\"\n",
    "df = pd.read_csv(path, header = None)"
   ]
  },
  {
   "cell_type": "markdown",
   "id": "acbd5440-fe8e-4283-b802-9db7a347f53d",
   "metadata": {},
   "source": [
    "# Printing the Data Frame\n",
    "\n"
   ]
  },
  {
   "cell_type": "markdown",
   "id": "01eed53c-d673-4e4f-aca1-09d1e8e39709",
   "metadata": {},
   "source": [
    "#### Prints the top n rows"
   ]
  },
  {
   "cell_type": "code",
   "execution_count": 10,
   "id": "a9eba337-50bb-4a79-8d45-7157ea8eed9a",
   "metadata": {},
   "outputs": [
    {
     "data": {
      "text/html": [
       "<div>\n",
       "<style scoped>\n",
       "    .dataframe tbody tr th:only-of-type {\n",
       "        vertical-align: middle;\n",
       "    }\n",
       "\n",
       "    .dataframe tbody tr th {\n",
       "        vertical-align: top;\n",
       "    }\n",
       "\n",
       "    .dataframe thead th {\n",
       "        text-align: right;\n",
       "    }\n",
       "</style>\n",
       "<table border=\"1\" class=\"dataframe\">\n",
       "  <thead>\n",
       "    <tr style=\"text-align: right;\">\n",
       "      <th></th>\n",
       "      <th>0</th>\n",
       "      <th>1</th>\n",
       "      <th>2</th>\n",
       "      <th>3</th>\n",
       "    </tr>\n",
       "  </thead>\n",
       "  <tbody>\n",
       "    <tr>\n",
       "      <th>0</th>\n",
       "      <td>0</td>\n",
       "      <td>6.8</td>\n",
       "      <td>123.0</td>\n",
       "      <td>1.0</td>\n",
       "    </tr>\n",
       "    <tr>\n",
       "      <th>1</th>\n",
       "      <td>1</td>\n",
       "      <td>5.9</td>\n",
       "      <td>106.0</td>\n",
       "      <td>0.0</td>\n",
       "    </tr>\n",
       "    <tr>\n",
       "      <th>2</th>\n",
       "      <td>2</td>\n",
       "      <td>NaN</td>\n",
       "      <td>121.0</td>\n",
       "      <td>0.0</td>\n",
       "    </tr>\n",
       "    <tr>\n",
       "      <th>3</th>\n",
       "      <td>3</td>\n",
       "      <td>NaN</td>\n",
       "      <td>132.0</td>\n",
       "      <td>1.0</td>\n",
       "    </tr>\n",
       "    <tr>\n",
       "      <th>4</th>\n",
       "      <td>4</td>\n",
       "      <td>5.8</td>\n",
       "      <td>142.0</td>\n",
       "      <td>0.0</td>\n",
       "    </tr>\n",
       "  </tbody>\n",
       "</table>\n",
       "</div>"
      ],
      "text/plain": [
       "   0    1      2    3\n",
       "0  0  6.8  123.0  1.0\n",
       "1  1  5.9  106.0  0.0\n",
       "2  2  NaN  121.0  0.0\n",
       "3  3  NaN  132.0  1.0\n",
       "4  4  5.8  142.0  0.0"
      ]
     },
     "execution_count": 10,
     "metadata": {},
     "output_type": "execute_result"
    }
   ],
   "source": [
    "df.head()"
   ]
  },
  {
   "cell_type": "markdown",
   "id": "af0e0137-e0b9-494a-a859-d978864d9902",
   "metadata": {},
   "source": [
    "#### prints the last n rows"
   ]
  },
  {
   "cell_type": "code",
   "execution_count": 13,
   "id": "9640053d-e20c-4e1e-b8e9-3fcd7974285d",
   "metadata": {},
   "outputs": [
    {
     "data": {
      "text/html": [
       "<div>\n",
       "<style scoped>\n",
       "    .dataframe tbody tr th:only-of-type {\n",
       "        vertical-align: middle;\n",
       "    }\n",
       "\n",
       "    .dataframe tbody tr th {\n",
       "        vertical-align: top;\n",
       "    }\n",
       "\n",
       "    .dataframe thead th {\n",
       "        text-align: right;\n",
       "    }\n",
       "</style>\n",
       "<table border=\"1\" class=\"dataframe\">\n",
       "  <thead>\n",
       "    <tr style=\"text-align: right;\">\n",
       "      <th></th>\n",
       "      <th>0</th>\n",
       "      <th>1</th>\n",
       "      <th>2</th>\n",
       "      <th>3</th>\n",
       "    </tr>\n",
       "  </thead>\n",
       "  <tbody>\n",
       "    <tr>\n",
       "      <th>95</th>\n",
       "      <td>95</td>\n",
       "      <td>4.3</td>\n",
       "      <td>200.0</td>\n",
       "      <td>0.0</td>\n",
       "    </tr>\n",
       "    <tr>\n",
       "      <th>96</th>\n",
       "      <td>96</td>\n",
       "      <td>4.4</td>\n",
       "      <td>42.0</td>\n",
       "      <td>0.0</td>\n",
       "    </tr>\n",
       "    <tr>\n",
       "      <th>97</th>\n",
       "      <td>97</td>\n",
       "      <td>6.7</td>\n",
       "      <td>182.0</td>\n",
       "      <td>1.0</td>\n",
       "    </tr>\n",
       "    <tr>\n",
       "      <th>98</th>\n",
       "      <td>98</td>\n",
       "      <td>6.3</td>\n",
       "      <td>103.0</td>\n",
       "      <td>1.0</td>\n",
       "    </tr>\n",
       "    <tr>\n",
       "      <th>99</th>\n",
       "      <td>99</td>\n",
       "      <td>6.2</td>\n",
       "      <td>113.0</td>\n",
       "      <td>1.0</td>\n",
       "    </tr>\n",
       "  </tbody>\n",
       "</table>\n",
       "</div>"
      ],
      "text/plain": [
       "     0    1      2    3\n",
       "95  95  4.3  200.0  0.0\n",
       "96  96  4.4   42.0  0.0\n",
       "97  97  6.7  182.0  1.0\n",
       "98  98  6.3  103.0  1.0\n",
       "99  99  6.2  113.0  1.0"
      ]
     },
     "execution_count": 13,
     "metadata": {},
     "output_type": "execute_result"
    }
   ],
   "source": [
    " df.tail()"
   ]
  },
  {
   "cell_type": "code",
   "execution_count": 15,
   "id": "ffafb4fc-acbd-4e8a-b91a-86d95f2caa04",
   "metadata": {},
   "outputs": [],
   "source": [
    "headers = [\"id\",\"cgpa\",\"iq\",\"placement\"]"
   ]
  },
  {
   "cell_type": "code",
   "execution_count": 17,
   "id": "1abe8c45-c812-4140-98db-49467ea1ef7c",
   "metadata": {},
   "outputs": [],
   "source": [
    "df.columns = headers"
   ]
  },
  {
   "cell_type": "code",
   "execution_count": 19,
   "id": "01b13dc2-e916-455f-b523-42374a5a3ef4",
   "metadata": {},
   "outputs": [
    {
     "data": {
      "text/html": [
       "<div>\n",
       "<style scoped>\n",
       "    .dataframe tbody tr th:only-of-type {\n",
       "        vertical-align: middle;\n",
       "    }\n",
       "\n",
       "    .dataframe tbody tr th {\n",
       "        vertical-align: top;\n",
       "    }\n",
       "\n",
       "    .dataframe thead th {\n",
       "        text-align: right;\n",
       "    }\n",
       "</style>\n",
       "<table border=\"1\" class=\"dataframe\">\n",
       "  <thead>\n",
       "    <tr style=\"text-align: right;\">\n",
       "      <th></th>\n",
       "      <th>id</th>\n",
       "      <th>cgpa</th>\n",
       "      <th>iq</th>\n",
       "      <th>placement</th>\n",
       "    </tr>\n",
       "  </thead>\n",
       "  <tbody>\n",
       "    <tr>\n",
       "      <th>0</th>\n",
       "      <td>0</td>\n",
       "      <td>6.8</td>\n",
       "      <td>123.0</td>\n",
       "      <td>1.0</td>\n",
       "    </tr>\n",
       "    <tr>\n",
       "      <th>1</th>\n",
       "      <td>1</td>\n",
       "      <td>5.9</td>\n",
       "      <td>106.0</td>\n",
       "      <td>0.0</td>\n",
       "    </tr>\n",
       "    <tr>\n",
       "      <th>2</th>\n",
       "      <td>2</td>\n",
       "      <td>NaN</td>\n",
       "      <td>121.0</td>\n",
       "      <td>0.0</td>\n",
       "    </tr>\n",
       "    <tr>\n",
       "      <th>3</th>\n",
       "      <td>3</td>\n",
       "      <td>NaN</td>\n",
       "      <td>132.0</td>\n",
       "      <td>1.0</td>\n",
       "    </tr>\n",
       "    <tr>\n",
       "      <th>4</th>\n",
       "      <td>4</td>\n",
       "      <td>5.8</td>\n",
       "      <td>142.0</td>\n",
       "      <td>0.0</td>\n",
       "    </tr>\n",
       "  </tbody>\n",
       "</table>\n",
       "</div>"
      ],
      "text/plain": [
       "   id  cgpa     iq  placement\n",
       "0   0   6.8  123.0        1.0\n",
       "1   1   5.9  106.0        0.0\n",
       "2   2   NaN  121.0        0.0\n",
       "3   3   NaN  132.0        1.0\n",
       "4   4   5.8  142.0        0.0"
      ]
     },
     "execution_count": 19,
     "metadata": {},
     "output_type": "execute_result"
    }
   ],
   "source": [
    "df.head()"
   ]
  },
  {
   "cell_type": "markdown",
   "id": "64f6584c-9709-4b8c-b0ad-2261adfe5d0f",
   "metadata": {},
   "source": [
    "# Checking Data Types of data\n"
   ]
  },
  {
   "cell_type": "code",
   "execution_count": 22,
   "id": "7cfdb4d6-d6a0-4ce0-8593-ea261ce03c71",
   "metadata": {},
   "outputs": [
    {
     "data": {
      "text/plain": [
       "id             int64\n",
       "cgpa         float64\n",
       "iq           float64\n",
       "placement    float64\n",
       "dtype: object"
      ]
     },
     "execution_count": 22,
     "metadata": {},
     "output_type": "execute_result"
    }
   ],
   "source": [
    "df.dtypes"
   ]
  },
  {
   "cell_type": "markdown",
   "id": "402885d4-f901-4513-8757-64502e673b00",
   "metadata": {},
   "source": [
    "#### Does not include columns with non-numeric data types"
   ]
  },
  {
   "cell_type": "code",
   "execution_count": 25,
   "id": "be04b22b-e4e2-40af-ab4c-a764af1f167d",
   "metadata": {},
   "outputs": [
    {
     "data": {
      "text/html": [
       "<div>\n",
       "<style scoped>\n",
       "    .dataframe tbody tr th:only-of-type {\n",
       "        vertical-align: middle;\n",
       "    }\n",
       "\n",
       "    .dataframe tbody tr th {\n",
       "        vertical-align: top;\n",
       "    }\n",
       "\n",
       "    .dataframe thead th {\n",
       "        text-align: right;\n",
       "    }\n",
       "</style>\n",
       "<table border=\"1\" class=\"dataframe\">\n",
       "  <thead>\n",
       "    <tr style=\"text-align: right;\">\n",
       "      <th></th>\n",
       "      <th>id</th>\n",
       "      <th>cgpa</th>\n",
       "      <th>iq</th>\n",
       "      <th>placement</th>\n",
       "    </tr>\n",
       "  </thead>\n",
       "  <tbody>\n",
       "    <tr>\n",
       "      <th>count</th>\n",
       "      <td>100.000000</td>\n",
       "      <td>94.000000</td>\n",
       "      <td>96.000000</td>\n",
       "      <td>96.000000</td>\n",
       "    </tr>\n",
       "    <tr>\n",
       "      <th>mean</th>\n",
       "      <td>49.500000</td>\n",
       "      <td>6.050000</td>\n",
       "      <td>121.479167</td>\n",
       "      <td>0.489583</td>\n",
       "    </tr>\n",
       "    <tr>\n",
       "      <th>std</th>\n",
       "      <td>29.011492</td>\n",
       "      <td>1.108302</td>\n",
       "      <td>38.729828</td>\n",
       "      <td>0.502516</td>\n",
       "    </tr>\n",
       "    <tr>\n",
       "      <th>min</th>\n",
       "      <td>0.000000</td>\n",
       "      <td>3.500000</td>\n",
       "      <td>37.000000</td>\n",
       "      <td>0.000000</td>\n",
       "    </tr>\n",
       "    <tr>\n",
       "      <th>25%</th>\n",
       "      <td>24.750000</td>\n",
       "      <td>5.100000</td>\n",
       "      <td>99.000000</td>\n",
       "      <td>0.000000</td>\n",
       "    </tr>\n",
       "    <tr>\n",
       "      <th>50%</th>\n",
       "      <td>49.500000</td>\n",
       "      <td>6.100000</td>\n",
       "      <td>123.500000</td>\n",
       "      <td>0.000000</td>\n",
       "    </tr>\n",
       "    <tr>\n",
       "      <th>75%</th>\n",
       "      <td>74.250000</td>\n",
       "      <td>6.900000</td>\n",
       "      <td>143.750000</td>\n",
       "      <td>1.000000</td>\n",
       "    </tr>\n",
       "    <tr>\n",
       "      <th>max</th>\n",
       "      <td>99.000000</td>\n",
       "      <td>8.500000</td>\n",
       "      <td>233.000000</td>\n",
       "      <td>1.000000</td>\n",
       "    </tr>\n",
       "  </tbody>\n",
       "</table>\n",
       "</div>"
      ],
      "text/plain": [
       "               id       cgpa          iq  placement\n",
       "count  100.000000  94.000000   96.000000  96.000000\n",
       "mean    49.500000   6.050000  121.479167   0.489583\n",
       "std     29.011492   1.108302   38.729828   0.502516\n",
       "min      0.000000   3.500000   37.000000   0.000000\n",
       "25%     24.750000   5.100000   99.000000   0.000000\n",
       "50%     49.500000   6.100000  123.500000   0.000000\n",
       "75%     74.250000   6.900000  143.750000   1.000000\n",
       "max     99.000000   8.500000  233.000000   1.000000"
      ]
     },
     "execution_count": 25,
     "metadata": {},
     "output_type": "execute_result"
    }
   ],
   "source": [
    "df.describe() "
   ]
  },
  {
   "cell_type": "markdown",
   "id": "fc788dbb-e4bb-40a7-a023-498de4d1d537",
   "metadata": {},
   "source": [
    " #### top = most frequent value"
   ]
  },
  {
   "cell_type": "code",
   "execution_count": 28,
   "id": "411978ea-c033-4f6e-878e-943321033e6f",
   "metadata": {},
   "outputs": [
    {
     "data": {
      "text/html": [
       "<div>\n",
       "<style scoped>\n",
       "    .dataframe tbody tr th:only-of-type {\n",
       "        vertical-align: middle;\n",
       "    }\n",
       "\n",
       "    .dataframe tbody tr th {\n",
       "        vertical-align: top;\n",
       "    }\n",
       "\n",
       "    .dataframe thead th {\n",
       "        text-align: right;\n",
       "    }\n",
       "</style>\n",
       "<table border=\"1\" class=\"dataframe\">\n",
       "  <thead>\n",
       "    <tr style=\"text-align: right;\">\n",
       "      <th></th>\n",
       "      <th>id</th>\n",
       "      <th>cgpa</th>\n",
       "      <th>iq</th>\n",
       "      <th>placement</th>\n",
       "    </tr>\n",
       "  </thead>\n",
       "  <tbody>\n",
       "    <tr>\n",
       "      <th>count</th>\n",
       "      <td>100.000000</td>\n",
       "      <td>94.000000</td>\n",
       "      <td>96.000000</td>\n",
       "      <td>96.000000</td>\n",
       "    </tr>\n",
       "    <tr>\n",
       "      <th>mean</th>\n",
       "      <td>49.500000</td>\n",
       "      <td>6.050000</td>\n",
       "      <td>121.479167</td>\n",
       "      <td>0.489583</td>\n",
       "    </tr>\n",
       "    <tr>\n",
       "      <th>std</th>\n",
       "      <td>29.011492</td>\n",
       "      <td>1.108302</td>\n",
       "      <td>38.729828</td>\n",
       "      <td>0.502516</td>\n",
       "    </tr>\n",
       "    <tr>\n",
       "      <th>min</th>\n",
       "      <td>0.000000</td>\n",
       "      <td>3.500000</td>\n",
       "      <td>37.000000</td>\n",
       "      <td>0.000000</td>\n",
       "    </tr>\n",
       "    <tr>\n",
       "      <th>25%</th>\n",
       "      <td>24.750000</td>\n",
       "      <td>5.100000</td>\n",
       "      <td>99.000000</td>\n",
       "      <td>0.000000</td>\n",
       "    </tr>\n",
       "    <tr>\n",
       "      <th>50%</th>\n",
       "      <td>49.500000</td>\n",
       "      <td>6.100000</td>\n",
       "      <td>123.500000</td>\n",
       "      <td>0.000000</td>\n",
       "    </tr>\n",
       "    <tr>\n",
       "      <th>75%</th>\n",
       "      <td>74.250000</td>\n",
       "      <td>6.900000</td>\n",
       "      <td>143.750000</td>\n",
       "      <td>1.000000</td>\n",
       "    </tr>\n",
       "    <tr>\n",
       "      <th>max</th>\n",
       "      <td>99.000000</td>\n",
       "      <td>8.500000</td>\n",
       "      <td>233.000000</td>\n",
       "      <td>1.000000</td>\n",
       "    </tr>\n",
       "  </tbody>\n",
       "</table>\n",
       "</div>"
      ],
      "text/plain": [
       "               id       cgpa          iq  placement\n",
       "count  100.000000  94.000000   96.000000  96.000000\n",
       "mean    49.500000   6.050000  121.479167   0.489583\n",
       "std     29.011492   1.108302   38.729828   0.502516\n",
       "min      0.000000   3.500000   37.000000   0.000000\n",
       "25%     24.750000   5.100000   99.000000   0.000000\n",
       "50%     49.500000   6.100000  123.500000   0.000000\n",
       "75%     74.250000   6.900000  143.750000   1.000000\n",
       "max     99.000000   8.500000  233.000000   1.000000"
      ]
     },
     "execution_count": 28,
     "metadata": {},
     "output_type": "execute_result"
    }
   ],
   "source": [
    "df.describe(include = \"all\") "
   ]
  },
  {
   "cell_type": "markdown",
   "id": "c43fa5bd-6cbd-4242-ad44-3e3b21548f74",
   "metadata": {},
   "source": [
    "# Data Preprocessing"
   ]
  },
  {
   "cell_type": "markdown",
   "id": "80cd4c72-cd32-45dd-ab7e-c89c9a97cc15",
   "metadata": {},
   "source": [
    "#### Accessing columns of a data frame"
   ]
  },
  {
   "cell_type": "code",
   "execution_count": 32,
   "id": "1b60b868-c885-41f0-b41b-ef934ce204d5",
   "metadata": {},
   "outputs": [
    {
     "data": {
      "text/plain": [
       "0      0\n",
       "1      1\n",
       "2      2\n",
       "3      3\n",
       "4      4\n",
       "      ..\n",
       "95    95\n",
       "96    96\n",
       "97    97\n",
       "98    98\n",
       "99    99\n",
       "Name: id, Length: 100, dtype: int64"
      ]
     },
     "execution_count": 32,
     "metadata": {},
     "output_type": "execute_result"
    }
   ],
   "source": [
    "df[\"id\"]"
   ]
  },
  {
   "cell_type": "code",
   "execution_count": 34,
   "id": "679e1875-0be0-4a25-8772-b2bd65bdc225",
   "metadata": {},
   "outputs": [
    {
     "data": {
      "text/plain": [
       "0     1.0\n",
       "1     0.0\n",
       "2     0.0\n",
       "3     1.0\n",
       "4     0.0\n",
       "     ... \n",
       "95    0.0\n",
       "96    0.0\n",
       "97    1.0\n",
       "98    1.0\n",
       "99    1.0\n",
       "Name: placement, Length: 100, dtype: float64"
      ]
     },
     "execution_count": 34,
     "metadata": {},
     "output_type": "execute_result"
    }
   ],
   "source": [
    "df[\"placement\"]\n"
   ]
  },
  {
   "cell_type": "markdown",
   "id": "cffa50ec-694d-4482-a432-39c6ab45cec0",
   "metadata": {},
   "source": [
    "# Dealing with Missing Values"
   ]
  },
  {
   "cell_type": "markdown",
   "id": "71519ba8-1b00-4248-a229-3ea005896d1f",
   "metadata": {},
   "source": [
    "#### Replace ? in _normalized-losses_ column by NAN"
   ]
  },
  {
   "cell_type": "code",
   "execution_count": 38,
   "id": "ac0c07c9-c48a-46b3-beb3-7ababbfd7be7",
   "metadata": {},
   "outputs": [
    {
     "data": {
      "text/html": [
       "<div>\n",
       "<style scoped>\n",
       "    .dataframe tbody tr th:only-of-type {\n",
       "        vertical-align: middle;\n",
       "    }\n",
       "\n",
       "    .dataframe tbody tr th {\n",
       "        vertical-align: top;\n",
       "    }\n",
       "\n",
       "    .dataframe thead th {\n",
       "        text-align: right;\n",
       "    }\n",
       "</style>\n",
       "<table border=\"1\" class=\"dataframe\">\n",
       "  <thead>\n",
       "    <tr style=\"text-align: right;\">\n",
       "      <th></th>\n",
       "      <th>id</th>\n",
       "      <th>cgpa</th>\n",
       "      <th>iq</th>\n",
       "      <th>placement</th>\n",
       "    </tr>\n",
       "  </thead>\n",
       "  <tbody>\n",
       "    <tr>\n",
       "      <th>0</th>\n",
       "      <td>0</td>\n",
       "      <td>6.8</td>\n",
       "      <td>123.0</td>\n",
       "      <td>1.0</td>\n",
       "    </tr>\n",
       "    <tr>\n",
       "      <th>1</th>\n",
       "      <td>1</td>\n",
       "      <td>5.9</td>\n",
       "      <td>106.0</td>\n",
       "      <td>0.0</td>\n",
       "    </tr>\n",
       "    <tr>\n",
       "      <th>2</th>\n",
       "      <td>2</td>\n",
       "      <td>NaN</td>\n",
       "      <td>121.0</td>\n",
       "      <td>0.0</td>\n",
       "    </tr>\n",
       "    <tr>\n",
       "      <th>3</th>\n",
       "      <td>3</td>\n",
       "      <td>NaN</td>\n",
       "      <td>132.0</td>\n",
       "      <td>1.0</td>\n",
       "    </tr>\n",
       "    <tr>\n",
       "      <th>4</th>\n",
       "      <td>4</td>\n",
       "      <td>5.8</td>\n",
       "      <td>142.0</td>\n",
       "      <td>0.0</td>\n",
       "    </tr>\n",
       "  </tbody>\n",
       "</table>\n",
       "</div>"
      ],
      "text/plain": [
       "   id  cgpa     iq  placement\n",
       "0   0   6.8  123.0        1.0\n",
       "1   1   5.9  106.0        0.0\n",
       "2   2   NaN  121.0        0.0\n",
       "3   3   NaN  132.0        1.0\n",
       "4   4   5.8  142.0        0.0"
      ]
     },
     "execution_count": 38,
     "metadata": {},
     "output_type": "execute_result"
    }
   ],
   "source": [
    "df.head()"
   ]
  },
  {
   "cell_type": "markdown",
   "id": "f37d6cda-7089-4e9e-8ea6-4a7de549e547",
   "metadata": {},
   "source": [
    "#### Accessing columns of a data frame"
   ]
  },
  {
   "cell_type": "code",
   "execution_count": 40,
   "id": "57730e63-cad4-4247-9e75-044593737772",
   "metadata": {},
   "outputs": [
    {
     "data": {
      "text/plain": [
       "0     6.8\n",
       "1     5.9\n",
       "2     NaN\n",
       "3     NaN\n",
       "4     5.8\n",
       "     ... \n",
       "95    4.3\n",
       "96    4.4\n",
       "97    6.7\n",
       "98    6.3\n",
       "99    6.2\n",
       "Name: cgpa, Length: 100, dtype: float64"
      ]
     },
     "execution_count": 40,
     "metadata": {},
     "output_type": "execute_result"
    }
   ],
   "source": [
    "df[\"cgpa\"]"
   ]
  },
  {
   "cell_type": "code",
   "execution_count": 42,
   "id": "8b48030c-a3f1-49c1-82ba-4c1d93b03c88",
   "metadata": {},
   "outputs": [],
   "source": [
    "df[\"cgpa\"].replace(\"?\", np.nan, inplace = True)"
   ]
  },
  {
   "cell_type": "code",
   "execution_count": 44,
   "id": "001fb6ed-0bc2-4b4c-ae11-20d79601c756",
   "metadata": {},
   "outputs": [
    {
     "data": {
      "text/html": [
       "<div>\n",
       "<style scoped>\n",
       "    .dataframe tbody tr th:only-of-type {\n",
       "        vertical-align: middle;\n",
       "    }\n",
       "\n",
       "    .dataframe tbody tr th {\n",
       "        vertical-align: top;\n",
       "    }\n",
       "\n",
       "    .dataframe thead th {\n",
       "        text-align: right;\n",
       "    }\n",
       "</style>\n",
       "<table border=\"1\" class=\"dataframe\">\n",
       "  <thead>\n",
       "    <tr style=\"text-align: right;\">\n",
       "      <th></th>\n",
       "      <th>id</th>\n",
       "      <th>cgpa</th>\n",
       "      <th>iq</th>\n",
       "      <th>placement</th>\n",
       "    </tr>\n",
       "  </thead>\n",
       "  <tbody>\n",
       "    <tr>\n",
       "      <th>0</th>\n",
       "      <td>0</td>\n",
       "      <td>6.8</td>\n",
       "      <td>123.0</td>\n",
       "      <td>1.0</td>\n",
       "    </tr>\n",
       "    <tr>\n",
       "      <th>1</th>\n",
       "      <td>1</td>\n",
       "      <td>5.9</td>\n",
       "      <td>106.0</td>\n",
       "      <td>0.0</td>\n",
       "    </tr>\n",
       "    <tr>\n",
       "      <th>2</th>\n",
       "      <td>2</td>\n",
       "      <td>NaN</td>\n",
       "      <td>121.0</td>\n",
       "      <td>0.0</td>\n",
       "    </tr>\n",
       "    <tr>\n",
       "      <th>3</th>\n",
       "      <td>3</td>\n",
       "      <td>NaN</td>\n",
       "      <td>132.0</td>\n",
       "      <td>1.0</td>\n",
       "    </tr>\n",
       "    <tr>\n",
       "      <th>4</th>\n",
       "      <td>4</td>\n",
       "      <td>5.8</td>\n",
       "      <td>142.0</td>\n",
       "      <td>0.0</td>\n",
       "    </tr>\n",
       "  </tbody>\n",
       "</table>\n",
       "</div>"
      ],
      "text/plain": [
       "   id  cgpa     iq  placement\n",
       "0   0   6.8  123.0        1.0\n",
       "1   1   5.9  106.0        0.0\n",
       "2   2   NaN  121.0        0.0\n",
       "3   3   NaN  132.0        1.0\n",
       "4   4   5.8  142.0        0.0"
      ]
     },
     "execution_count": 44,
     "metadata": {},
     "output_type": "execute_result"
    }
   ],
   "source": [
    "df.head()"
   ]
  },
  {
   "cell_type": "markdown",
   "id": "12aa36bb-2801-4ad9-ab68-d9b6e920926b",
   "metadata": {},
   "source": [
    " #### Convert this column from object to numeric column\n"
   ]
  },
  {
   "cell_type": "code",
   "execution_count": 47,
   "id": "541153c1-c8f8-4712-9d19-1a3f470a4e49",
   "metadata": {},
   "outputs": [],
   "source": [
    "df[\"cgpa\"] = pd.to_numeric(df[\"cgpa\"]) \n"
   ]
  },
  {
   "cell_type": "code",
   "execution_count": 49,
   "id": "d7ee84ed-118c-4911-92b8-09df942a17ba",
   "metadata": {},
   "outputs": [
    {
     "data": {
      "text/plain": [
       "id             int64\n",
       "cgpa         float64\n",
       "iq           float64\n",
       "placement    float64\n",
       "dtype: object"
      ]
     },
     "execution_count": 49,
     "metadata": {},
     "output_type": "execute_result"
    }
   ],
   "source": [
    "df.dtypes"
   ]
  },
  {
   "cell_type": "code",
   "execution_count": 51,
   "id": "9ccf3ce6-ceab-43dc-a90a-4e9d83acb997",
   "metadata": {},
   "outputs": [
    {
     "data": {
      "text/plain": [
       "6.049999999999999"
      ]
     },
     "execution_count": 51,
     "metadata": {},
     "output_type": "execute_result"
    }
   ],
   "source": [
    "mean= df[\"cgpa\"].mean()\n",
    "mean"
   ]
  },
  {
   "cell_type": "code",
   "execution_count": 56,
   "id": "42f20162-2cdc-4ed9-aa1e-f71be2039f3d",
   "metadata": {},
   "outputs": [
    {
     "data": {
      "text/plain": [
       "0     6.80\n",
       "1     5.90\n",
       "2     6.05\n",
       "3     6.05\n",
       "4     5.80\n",
       "      ... \n",
       "95    4.30\n",
       "96    4.40\n",
       "97    6.70\n",
       "98    6.30\n",
       "99    6.20\n",
       "Name: cgpa, Length: 100, dtype: float64"
      ]
     },
     "execution_count": 56,
     "metadata": {},
     "output_type": "execute_result"
    }
   ],
   "source": [
    "df[\"cgpa\"]"
   ]
  },
  {
   "cell_type": "markdown",
   "id": "979519a6-0891-453f-aa0e-5c1de2ce492e",
   "metadata": {},
   "source": [
    "#### Accessing columns of a data frame"
   ]
  },
  {
   "cell_type": "code",
   "execution_count": 58,
   "id": "87ea0fbc-1d1e-409b-8b32-a909dbcdef02",
   "metadata": {},
   "outputs": [
    {
     "data": {
      "text/plain": [
       "0     123.0\n",
       "1     106.0\n",
       "2     121.0\n",
       "3     132.0\n",
       "4     142.0\n",
       "      ...  \n",
       "95    200.0\n",
       "96     42.0\n",
       "97    182.0\n",
       "98    103.0\n",
       "99    113.0\n",
       "Name: iq, Length: 100, dtype: float64"
      ]
     },
     "execution_count": 58,
     "metadata": {},
     "output_type": "execute_result"
    }
   ],
   "source": [
    "df[\"iq\"]\n"
   ]
  },
  {
   "cell_type": "code",
   "execution_count": 60,
   "id": "347332ba-1a51-4cdf-94d2-f844ff565454",
   "metadata": {},
   "outputs": [],
   "source": [
    "df[\"iq\"].replace(\"?\", np.nan, inplace = True)"
   ]
  },
  {
   "cell_type": "code",
   "execution_count": 62,
   "id": "1c46208d-2187-4af0-b984-5f5c58217c6b",
   "metadata": {},
   "outputs": [
    {
     "data": {
      "text/html": [
       "<div>\n",
       "<style scoped>\n",
       "    .dataframe tbody tr th:only-of-type {\n",
       "        vertical-align: middle;\n",
       "    }\n",
       "\n",
       "    .dataframe tbody tr th {\n",
       "        vertical-align: top;\n",
       "    }\n",
       "\n",
       "    .dataframe thead th {\n",
       "        text-align: right;\n",
       "    }\n",
       "</style>\n",
       "<table border=\"1\" class=\"dataframe\">\n",
       "  <thead>\n",
       "    <tr style=\"text-align: right;\">\n",
       "      <th></th>\n",
       "      <th>id</th>\n",
       "      <th>cgpa</th>\n",
       "      <th>iq</th>\n",
       "      <th>placement</th>\n",
       "    </tr>\n",
       "  </thead>\n",
       "  <tbody>\n",
       "    <tr>\n",
       "      <th>0</th>\n",
       "      <td>0</td>\n",
       "      <td>6.80</td>\n",
       "      <td>123.0</td>\n",
       "      <td>1.0</td>\n",
       "    </tr>\n",
       "    <tr>\n",
       "      <th>1</th>\n",
       "      <td>1</td>\n",
       "      <td>5.90</td>\n",
       "      <td>106.0</td>\n",
       "      <td>0.0</td>\n",
       "    </tr>\n",
       "    <tr>\n",
       "      <th>2</th>\n",
       "      <td>2</td>\n",
       "      <td>6.05</td>\n",
       "      <td>121.0</td>\n",
       "      <td>0.0</td>\n",
       "    </tr>\n",
       "    <tr>\n",
       "      <th>3</th>\n",
       "      <td>3</td>\n",
       "      <td>6.05</td>\n",
       "      <td>132.0</td>\n",
       "      <td>1.0</td>\n",
       "    </tr>\n",
       "    <tr>\n",
       "      <th>4</th>\n",
       "      <td>4</td>\n",
       "      <td>5.80</td>\n",
       "      <td>142.0</td>\n",
       "      <td>0.0</td>\n",
       "    </tr>\n",
       "  </tbody>\n",
       "</table>\n",
       "</div>"
      ],
      "text/plain": [
       "   id  cgpa     iq  placement\n",
       "0   0  6.80  123.0        1.0\n",
       "1   1  5.90  106.0        0.0\n",
       "2   2  6.05  121.0        0.0\n",
       "3   3  6.05  132.0        1.0\n",
       "4   4  5.80  142.0        0.0"
      ]
     },
     "execution_count": 62,
     "metadata": {},
     "output_type": "execute_result"
    }
   ],
   "source": [
    "df.head()"
   ]
  },
  {
   "cell_type": "code",
   "execution_count": 64,
   "id": "e6914d62-5093-48be-98cf-c63c691a5468",
   "metadata": {},
   "outputs": [],
   "source": [
    "df[\"iq\"] = pd.to_numeric(df[\"iq\"]) # Convert this column from object to numeric column\n"
   ]
  },
  {
   "cell_type": "code",
   "execution_count": 66,
   "id": "3f52e83b-a620-468e-8f8d-78ec4aa83d97",
   "metadata": {},
   "outputs": [
    {
     "data": {
      "text/plain": [
       "id             int64\n",
       "cgpa         float64\n",
       "iq           float64\n",
       "placement    float64\n",
       "dtype: object"
      ]
     },
     "execution_count": 66,
     "metadata": {},
     "output_type": "execute_result"
    }
   ],
   "source": [
    "df.dtypes"
   ]
  },
  {
   "cell_type": "code",
   "execution_count": 68,
   "id": "808494ef-9413-4701-ab3f-ea05ca0e99be",
   "metadata": {},
   "outputs": [
    {
     "data": {
      "text/plain": [
       "121.47916666666667"
      ]
     },
     "execution_count": 68,
     "metadata": {},
     "output_type": "execute_result"
    }
   ],
   "source": [
    "mean= df[\"iq\"].mean()\n",
    "mean"
   ]
  },
  {
   "cell_type": "code",
   "execution_count": 70,
   "id": "af956d5c-c63e-4d6a-90d5-2327a3e4a603",
   "metadata": {},
   "outputs": [
    {
     "data": {
      "text/plain": [
       "0     123.0\n",
       "1     106.0\n",
       "2     121.0\n",
       "3     132.0\n",
       "4     142.0\n",
       "      ...  \n",
       "95    200.0\n",
       "96     42.0\n",
       "97    182.0\n",
       "98    103.0\n",
       "99    113.0\n",
       "Name: iq, Length: 100, dtype: float64"
      ]
     },
     "execution_count": 70,
     "metadata": {},
     "output_type": "execute_result"
    }
   ],
   "source": [
    "df[\"iq\"]"
   ]
  },
  {
   "cell_type": "markdown",
   "id": "fdc03efe-f001-44a5-87dc-6b67fdede0d7",
   "metadata": {},
   "source": [
    "#### Accessing columns of a data frame"
   ]
  },
  {
   "cell_type": "code",
   "execution_count": 76,
   "id": "8b9b6837-b7ed-4b69-a6f5-413b2d6c0788",
   "metadata": {},
   "outputs": [
    {
     "data": {
      "text/plain": [
       "0     1.0\n",
       "1     0.0\n",
       "2     0.0\n",
       "3     1.0\n",
       "4     0.0\n",
       "     ... \n",
       "95    0.0\n",
       "96    0.0\n",
       "97    1.0\n",
       "98    1.0\n",
       "99    1.0\n",
       "Name: placement, Length: 100, dtype: float64"
      ]
     },
     "execution_count": 76,
     "metadata": {},
     "output_type": "execute_result"
    }
   ],
   "source": [
    "df[\"placement\"]\n"
   ]
  },
  {
   "cell_type": "code",
   "execution_count": 78,
   "id": "1fe19574-ae4d-452e-902f-111afe4ba57d",
   "metadata": {},
   "outputs": [],
   "source": [
    "df[\"placement\"].replace(\"?\", np.nan, inplace = True)"
   ]
  },
  {
   "cell_type": "code",
   "execution_count": 80,
   "id": "153e71e2-e520-4026-a842-714a81b2a078",
   "metadata": {},
   "outputs": [
    {
     "data": {
      "text/html": [
       "<div>\n",
       "<style scoped>\n",
       "    .dataframe tbody tr th:only-of-type {\n",
       "        vertical-align: middle;\n",
       "    }\n",
       "\n",
       "    .dataframe tbody tr th {\n",
       "        vertical-align: top;\n",
       "    }\n",
       "\n",
       "    .dataframe thead th {\n",
       "        text-align: right;\n",
       "    }\n",
       "</style>\n",
       "<table border=\"1\" class=\"dataframe\">\n",
       "  <thead>\n",
       "    <tr style=\"text-align: right;\">\n",
       "      <th></th>\n",
       "      <th>id</th>\n",
       "      <th>cgpa</th>\n",
       "      <th>iq</th>\n",
       "      <th>placement</th>\n",
       "    </tr>\n",
       "  </thead>\n",
       "  <tbody>\n",
       "    <tr>\n",
       "      <th>0</th>\n",
       "      <td>0</td>\n",
       "      <td>6.80</td>\n",
       "      <td>123.0</td>\n",
       "      <td>1.0</td>\n",
       "    </tr>\n",
       "    <tr>\n",
       "      <th>1</th>\n",
       "      <td>1</td>\n",
       "      <td>5.90</td>\n",
       "      <td>106.0</td>\n",
       "      <td>0.0</td>\n",
       "    </tr>\n",
       "    <tr>\n",
       "      <th>2</th>\n",
       "      <td>2</td>\n",
       "      <td>6.05</td>\n",
       "      <td>121.0</td>\n",
       "      <td>0.0</td>\n",
       "    </tr>\n",
       "    <tr>\n",
       "      <th>3</th>\n",
       "      <td>3</td>\n",
       "      <td>6.05</td>\n",
       "      <td>132.0</td>\n",
       "      <td>1.0</td>\n",
       "    </tr>\n",
       "    <tr>\n",
       "      <th>4</th>\n",
       "      <td>4</td>\n",
       "      <td>5.80</td>\n",
       "      <td>142.0</td>\n",
       "      <td>0.0</td>\n",
       "    </tr>\n",
       "  </tbody>\n",
       "</table>\n",
       "</div>"
      ],
      "text/plain": [
       "   id  cgpa     iq  placement\n",
       "0   0  6.80  123.0        1.0\n",
       "1   1  5.90  106.0        0.0\n",
       "2   2  6.05  121.0        0.0\n",
       "3   3  6.05  132.0        1.0\n",
       "4   4  5.80  142.0        0.0"
      ]
     },
     "execution_count": 80,
     "metadata": {},
     "output_type": "execute_result"
    }
   ],
   "source": [
    "df.head()"
   ]
  },
  {
   "cell_type": "code",
   "execution_count": 82,
   "id": "e0968c20-c992-47d2-b709-281f156e38d6",
   "metadata": {},
   "outputs": [],
   "source": [
    "df[\"placement\"] = pd.to_numeric(df[\"placement\"]) # Convert this column from object to numeric column\n"
   ]
  },
  {
   "cell_type": "code",
   "execution_count": 84,
   "id": "d623c83c-cbfc-4127-88ec-b9bbbe2ae265",
   "metadata": {},
   "outputs": [
    {
     "data": {
      "text/plain": [
       "id             int64\n",
       "cgpa         float64\n",
       "iq           float64\n",
       "placement    float64\n",
       "dtype: object"
      ]
     },
     "execution_count": 84,
     "metadata": {},
     "output_type": "execute_result"
    }
   ],
   "source": [
    "df.dtypes"
   ]
  },
  {
   "cell_type": "code",
   "execution_count": 86,
   "id": "173239bd-158b-4947-a773-c564e8c0619b",
   "metadata": {},
   "outputs": [
    {
     "data": {
      "text/plain": [
       "0.4895833333333333"
      ]
     },
     "execution_count": 86,
     "metadata": {},
     "output_type": "execute_result"
    }
   ],
   "source": [
    "mean= df[\"placement\"].mean()\n",
    "mean"
   ]
  },
  {
   "cell_type": "code",
   "execution_count": 88,
   "id": "f6d1441e-4693-44de-9f4d-d17d1fac06f9",
   "metadata": {},
   "outputs": [
    {
     "data": {
      "text/plain": [
       "0     1.0\n",
       "1     0.0\n",
       "2     0.0\n",
       "3     1.0\n",
       "4     0.0\n",
       "     ... \n",
       "95    0.0\n",
       "96    0.0\n",
       "97    1.0\n",
       "98    1.0\n",
       "99    1.0\n",
       "Name: placement, Length: 100, dtype: float64"
      ]
     },
     "execution_count": 88,
     "metadata": {},
     "output_type": "execute_result"
    }
   ],
   "source": [
    "df[\"placement\"]"
   ]
  },
  {
   "cell_type": "markdown",
   "id": "8eb62fd6-1705-4f84-b76d-bdcb7607bd5c",
   "metadata": {},
   "source": [
    "# Data Normalization"
   ]
  },
  {
   "cell_type": "code",
   "execution_count": 91,
   "id": "c2b41de9-f0f6-4cfc-be82-e347f3796bb0",
   "metadata": {},
   "outputs": [
    {
     "data": {
      "text/html": [
       "<div>\n",
       "<style scoped>\n",
       "    .dataframe tbody tr th:only-of-type {\n",
       "        vertical-align: middle;\n",
       "    }\n",
       "\n",
       "    .dataframe tbody tr th {\n",
       "        vertical-align: top;\n",
       "    }\n",
       "\n",
       "    .dataframe thead th {\n",
       "        text-align: right;\n",
       "    }\n",
       "</style>\n",
       "<table border=\"1\" class=\"dataframe\">\n",
       "  <thead>\n",
       "    <tr style=\"text-align: right;\">\n",
       "      <th></th>\n",
       "      <th>id</th>\n",
       "      <th>cgpa</th>\n",
       "      <th>iq</th>\n",
       "      <th>placement</th>\n",
       "    </tr>\n",
       "  </thead>\n",
       "  <tbody>\n",
       "    <tr>\n",
       "      <th>0</th>\n",
       "      <td>0</td>\n",
       "      <td>6.80</td>\n",
       "      <td>123.0</td>\n",
       "      <td>1.0</td>\n",
       "    </tr>\n",
       "    <tr>\n",
       "      <th>1</th>\n",
       "      <td>1</td>\n",
       "      <td>5.90</td>\n",
       "      <td>106.0</td>\n",
       "      <td>0.0</td>\n",
       "    </tr>\n",
       "    <tr>\n",
       "      <th>2</th>\n",
       "      <td>2</td>\n",
       "      <td>6.05</td>\n",
       "      <td>121.0</td>\n",
       "      <td>0.0</td>\n",
       "    </tr>\n",
       "    <tr>\n",
       "      <th>3</th>\n",
       "      <td>3</td>\n",
       "      <td>6.05</td>\n",
       "      <td>132.0</td>\n",
       "      <td>1.0</td>\n",
       "    </tr>\n",
       "    <tr>\n",
       "      <th>4</th>\n",
       "      <td>4</td>\n",
       "      <td>5.80</td>\n",
       "      <td>142.0</td>\n",
       "      <td>0.0</td>\n",
       "    </tr>\n",
       "  </tbody>\n",
       "</table>\n",
       "</div>"
      ],
      "text/plain": [
       "   id  cgpa     iq  placement\n",
       "0   0  6.80  123.0        1.0\n",
       "1   1  5.90  106.0        0.0\n",
       "2   2  6.05  121.0        0.0\n",
       "3   3  6.05  132.0        1.0\n",
       "4   4  5.80  142.0        0.0"
      ]
     },
     "execution_count": 91,
     "metadata": {},
     "output_type": "execute_result"
    }
   ],
   "source": [
    "df.head()"
   ]
  },
  {
   "cell_type": "code",
   "execution_count": 93,
   "id": "08bb6476-1686-483e-8f26-ab235c2423d0",
   "metadata": {},
   "outputs": [
    {
     "data": {
      "text/plain": [
       "id             int64\n",
       "cgpa         float64\n",
       "iq           float64\n",
       "placement    float64\n",
       "dtype: object"
      ]
     },
     "execution_count": 93,
     "metadata": {},
     "output_type": "execute_result"
    }
   ],
   "source": [
    "df.dtypes"
   ]
  },
  {
   "cell_type": "code",
   "execution_count": 95,
   "id": "4bf64033-ada8-4d10-9478-048689a79bd6",
   "metadata": {},
   "outputs": [
    {
     "data": {
      "text/plain": [
       "0     123.0\n",
       "1     106.0\n",
       "2     121.0\n",
       "3     132.0\n",
       "4     142.0\n",
       "      ...  \n",
       "95    200.0\n",
       "96     42.0\n",
       "97    182.0\n",
       "98    103.0\n",
       "99    113.0\n",
       "Name: iq, Length: 100, dtype: float64"
      ]
     },
     "execution_count": 95,
     "metadata": {},
     "output_type": "execute_result"
    }
   ],
   "source": [
    "df[\"iq\"]"
   ]
  },
  {
   "cell_type": "code",
   "execution_count": 97,
   "id": "6d661be3-2d8a-43ef-877d-7f9e13704b21",
   "metadata": {},
   "outputs": [
    {
     "data": {
      "text/plain": [
       "233.0"
      ]
     },
     "execution_count": 97,
     "metadata": {},
     "output_type": "execute_result"
    }
   ],
   "source": [
    "df[\"iq\"].max()"
   ]
  },
  {
   "cell_type": "markdown",
   "id": "01c2cba6-ba83-4b7a-976c-8c9576831210",
   "metadata": {},
   "source": [
    "#### 1. Simple feature scaling\n",
    "#### divide each value by maximum value in iq column\n"
   ]
  },
  {
   "cell_type": "code",
   "execution_count": 100,
   "id": "52eea240-bb02-4f0b-aca0-07623ed915d9",
   "metadata": {},
   "outputs": [],
   "source": [
    "\n",
    "df[\"iq\"] = df[\"iq\"]/ df[\"iq\"].max()"
   ]
  },
  {
   "cell_type": "code",
   "execution_count": 102,
   "id": "914e8ef4-e38f-448f-8f47-2de850c431d1",
   "metadata": {},
   "outputs": [
    {
     "data": {
      "text/plain": [
       "0     0.527897\n",
       "1     0.454936\n",
       "2     0.519313\n",
       "3     0.566524\n",
       "4     0.609442\n",
       "        ...   \n",
       "95    0.858369\n",
       "96    0.180258\n",
       "97    0.781116\n",
       "98    0.442060\n",
       "99    0.484979\n",
       "Name: iq, Length: 100, dtype: float64"
      ]
     },
     "execution_count": 102,
     "metadata": {},
     "output_type": "execute_result"
    }
   ],
   "source": [
    "df[\"iq\"]"
   ]
  },
  {
   "cell_type": "code",
   "execution_count": 104,
   "id": "b7db0667-bee5-40da-a569-c2c1ad0b967d",
   "metadata": {},
   "outputs": [
    {
     "data": {
      "text/plain": [
       "1.0"
      ]
     },
     "execution_count": 104,
     "metadata": {},
     "output_type": "execute_result"
    }
   ],
   "source": [
    "df[\"iq\"].max()"
   ]
  },
  {
   "cell_type": "markdown",
   "id": "b1db26a7-4e0f-4630-ad76-1a3532706da4",
   "metadata": {},
   "source": [
    "#### 2. Min Max Scaling\n"
   ]
  },
  {
   "cell_type": "code",
   "execution_count": 107,
   "id": "04f515fc-0776-41ef-8883-a43ab5082a73",
   "metadata": {},
   "outputs": [
    {
     "data": {
      "text/plain": [
       "0     6.80\n",
       "1     5.90\n",
       "2     6.05\n",
       "3     6.05\n",
       "4     5.80\n",
       "      ... \n",
       "95    4.30\n",
       "96    4.40\n",
       "97    6.70\n",
       "98    6.30\n",
       "99    6.20\n",
       "Name: cgpa, Length: 100, dtype: float64"
      ]
     },
     "execution_count": 107,
     "metadata": {},
     "output_type": "execute_result"
    }
   ],
   "source": [
    "\n",
    "df[\"cgpa\"]"
   ]
  },
  {
   "cell_type": "code",
   "execution_count": 109,
   "id": "c232cd94-d7eb-47f5-ac3d-955885838642",
   "metadata": {},
   "outputs": [
    {
     "name": "stdout",
     "output_type": "stream",
     "text": [
      "8.5 3.5\n"
     ]
    }
   ],
   "source": [
    "print(df[\"cgpa\"].max(), df[\"cgpa\"].min() )"
   ]
  },
  {
   "cell_type": "code",
   "execution_count": 111,
   "id": "64c6e282-de6a-4dd5-a694-78a40a7b63de",
   "metadata": {},
   "outputs": [],
   "source": [
    "df[\"cgpa\"] = (df[\"cgpa\"] - df[\"cgpa\"].min() ) / (df[\"cgpa\"].max() - df[\"cgpa\"].min() )"
   ]
  },
  {
   "cell_type": "code",
   "execution_count": 113,
   "id": "75623603-0028-4d0a-a61f-ba4ce118ca25",
   "metadata": {},
   "outputs": [
    {
     "data": {
      "text/plain": [
       "0     0.66\n",
       "1     0.48\n",
       "2     0.51\n",
       "3     0.51\n",
       "4     0.46\n",
       "      ... \n",
       "95    0.16\n",
       "96    0.18\n",
       "97    0.64\n",
       "98    0.56\n",
       "99    0.54\n",
       "Name: cgpa, Length: 100, dtype: float64"
      ]
     },
     "execution_count": 113,
     "metadata": {},
     "output_type": "execute_result"
    }
   ],
   "source": [
    "df[\"cgpa\"]"
   ]
  },
  {
   "cell_type": "code",
   "execution_count": 115,
   "id": "25589b2f-d1d7-4cd2-8c21-fe9865aa85f9",
   "metadata": {},
   "outputs": [
    {
     "name": "stdout",
     "output_type": "stream",
     "text": [
      "1.0 0.0\n"
     ]
    }
   ],
   "source": [
    "print(df[\"cgpa\"].max(), df[\"cgpa\"].min() )"
   ]
  },
  {
   "cell_type": "markdown",
   "id": "d215ef74-a860-4e43-bced-098061bff617",
   "metadata": {},
   "source": [
    "#### 3. Z-score normalization technique\n"
   ]
  },
  {
   "cell_type": "code",
   "execution_count": 118,
   "id": "af6ae868-2af8-4f5c-9805-abde5bc06348",
   "metadata": {},
   "outputs": [
    {
     "data": {
      "text/plain": [
       "0     1.0\n",
       "1     0.0\n",
       "2     0.0\n",
       "3     1.0\n",
       "4     0.0\n",
       "     ... \n",
       "95    0.0\n",
       "96    0.0\n",
       "97    1.0\n",
       "98    1.0\n",
       "99    1.0\n",
       "Name: placement, Length: 100, dtype: float64"
      ]
     },
     "execution_count": 118,
     "metadata": {},
     "output_type": "execute_result"
    }
   ],
   "source": [
    "\n",
    "df['placement']"
   ]
  },
  {
   "cell_type": "code",
   "execution_count": 120,
   "id": "f470bcdb-a2fc-4ed2-a9f7-f7dd82973908",
   "metadata": {},
   "outputs": [
    {
     "name": "stdout",
     "output_type": "stream",
     "text": [
      "1.0 0.0\n"
     ]
    }
   ],
   "source": [
    "print(df[\"placement\"].max(), df[\"placement\"].min() )"
   ]
  },
  {
   "cell_type": "code",
   "execution_count": 122,
   "id": "6b546959-548c-4f9a-9bdd-c54b97675d3e",
   "metadata": {},
   "outputs": [],
   "source": [
    "df[\"placement\"] = (df[\"placement\"] - df[\"placement\"].mean()) / df[\"placement\"].std()"
   ]
  },
  {
   "cell_type": "code",
   "execution_count": 124,
   "id": "d233acff-9655-438d-b6fb-9c23d2c19315",
   "metadata": {},
   "outputs": [
    {
     "data": {
      "text/plain": [
       "0     1.015723\n",
       "1    -0.974265\n",
       "2    -0.974265\n",
       "3     1.015723\n",
       "4    -0.974265\n",
       "        ...   \n",
       "95   -0.974265\n",
       "96   -0.974265\n",
       "97    1.015723\n",
       "98    1.015723\n",
       "99    1.015723\n",
       "Name: placement, Length: 100, dtype: float64"
      ]
     },
     "execution_count": 124,
     "metadata": {},
     "output_type": "execute_result"
    }
   ],
   "source": [
    "df['placement']"
   ]
  },
  {
   "cell_type": "code",
   "execution_count": 126,
   "id": "26b5642c-5855-4695-a84c-62264df7085f",
   "metadata": {},
   "outputs": [
    {
     "name": "stdout",
     "output_type": "stream",
     "text": [
      "1.0157230244566418 -0.9742649418257583\n"
     ]
    }
   ],
   "source": [
    "print(df[\"placement\"].max(), df[\"placement\"].min() )"
   ]
  },
  {
   "cell_type": "markdown",
   "id": "dd1b7020-c1d2-4439-aff2-145ed044fa46",
   "metadata": {},
   "source": [
    "# Binning"
   ]
  },
  {
   "cell_type": "markdown",
   "id": "d2516fbf-56a5-42e0-bf94-981fd0a4d7c7",
   "metadata": {},
   "source": [
    "#### It returns the array elements that are evenly distributed\n"
   ]
  },
  {
   "cell_type": "code",
   "execution_count": 132,
   "id": "a04df974-7606-4024-8706-9461cef1b848",
   "metadata": {},
   "outputs": [],
   "source": [
    "bins = np.linspace(min(df[\"iq\"]), max(df[\"iq\"]), 4)"
   ]
  },
  {
   "cell_type": "code",
   "execution_count": 134,
   "id": "dc16f469-bd94-483d-ac94-f513a1da29e5",
   "metadata": {},
   "outputs": [
    {
     "data": {
      "text/plain": [
       "array([0.15879828, 0.43919886, 0.71959943, 1.        ])"
      ]
     },
     "execution_count": 134,
     "metadata": {},
     "output_type": "execute_result"
    }
   ],
   "source": [
    "bins"
   ]
  },
  {
   "cell_type": "code",
   "execution_count": 136,
   "id": "a8174f75-0bdc-4086-a42c-6a3b463c693b",
   "metadata": {},
   "outputs": [],
   "source": [
    "group_names = [\"Low\", \"Medium\", \"High\"]"
   ]
  },
  {
   "cell_type": "markdown",
   "id": "955b47b9-5e39-4fe2-9ec0-024539fc61dd",
   "metadata": {},
   "source": [
    "#### Segment data into bins\n"
   ]
  },
  {
   "cell_type": "code",
   "execution_count": 139,
   "id": "3b51b456-efef-44fd-b4bd-fce393decb7d",
   "metadata": {},
   "outputs": [],
   "source": [
    "df[\"iq-binned\"] = pd.cut(df[\"iq\"],bins, labels=group_names, include_lowest = True)"
   ]
  },
  {
   "cell_type": "markdown",
   "id": "eb8cdee4-05c0-4f4b-8970-a2d8d0d5b4d2",
   "metadata": {},
   "source": [
    "#### Explore iq and iq binned column\n"
   ]
  },
  {
   "cell_type": "code",
   "execution_count": 142,
   "id": "73c04085-3372-41ea-baa2-52671c159cb0",
   "metadata": {},
   "outputs": [
    {
     "data": {
      "text/html": [
       "<div>\n",
       "<style scoped>\n",
       "    .dataframe tbody tr th:only-of-type {\n",
       "        vertical-align: middle;\n",
       "    }\n",
       "\n",
       "    .dataframe tbody tr th {\n",
       "        vertical-align: top;\n",
       "    }\n",
       "\n",
       "    .dataframe thead th {\n",
       "        text-align: right;\n",
       "    }\n",
       "</style>\n",
       "<table border=\"1\" class=\"dataframe\">\n",
       "  <thead>\n",
       "    <tr style=\"text-align: right;\">\n",
       "      <th></th>\n",
       "      <th>iq</th>\n",
       "      <th>iq-binned</th>\n",
       "    </tr>\n",
       "  </thead>\n",
       "  <tbody>\n",
       "    <tr>\n",
       "      <th>0</th>\n",
       "      <td>0.527897</td>\n",
       "      <td>Medium</td>\n",
       "    </tr>\n",
       "    <tr>\n",
       "      <th>1</th>\n",
       "      <td>0.454936</td>\n",
       "      <td>Medium</td>\n",
       "    </tr>\n",
       "    <tr>\n",
       "      <th>2</th>\n",
       "      <td>0.519313</td>\n",
       "      <td>Medium</td>\n",
       "    </tr>\n",
       "    <tr>\n",
       "      <th>3</th>\n",
       "      <td>0.566524</td>\n",
       "      <td>Medium</td>\n",
       "    </tr>\n",
       "    <tr>\n",
       "      <th>4</th>\n",
       "      <td>0.609442</td>\n",
       "      <td>Medium</td>\n",
       "    </tr>\n",
       "    <tr>\n",
       "      <th>...</th>\n",
       "      <td>...</td>\n",
       "      <td>...</td>\n",
       "    </tr>\n",
       "    <tr>\n",
       "      <th>95</th>\n",
       "      <td>0.858369</td>\n",
       "      <td>High</td>\n",
       "    </tr>\n",
       "    <tr>\n",
       "      <th>96</th>\n",
       "      <td>0.180258</td>\n",
       "      <td>Low</td>\n",
       "    </tr>\n",
       "    <tr>\n",
       "      <th>97</th>\n",
       "      <td>0.781116</td>\n",
       "      <td>High</td>\n",
       "    </tr>\n",
       "    <tr>\n",
       "      <th>98</th>\n",
       "      <td>0.442060</td>\n",
       "      <td>Medium</td>\n",
       "    </tr>\n",
       "    <tr>\n",
       "      <th>99</th>\n",
       "      <td>0.484979</td>\n",
       "      <td>Medium</td>\n",
       "    </tr>\n",
       "  </tbody>\n",
       "</table>\n",
       "<p>100 rows × 2 columns</p>\n",
       "</div>"
      ],
      "text/plain": [
       "          iq iq-binned\n",
       "0   0.527897    Medium\n",
       "1   0.454936    Medium\n",
       "2   0.519313    Medium\n",
       "3   0.566524    Medium\n",
       "4   0.609442    Medium\n",
       "..       ...       ...\n",
       "95  0.858369      High\n",
       "96  0.180258       Low\n",
       "97  0.781116      High\n",
       "98  0.442060    Medium\n",
       "99  0.484979    Medium\n",
       "\n",
       "[100 rows x 2 columns]"
      ]
     },
     "execution_count": 142,
     "metadata": {},
     "output_type": "execute_result"
    }
   ],
   "source": [
    "\n",
    "df[ [\"iq\", \"iq-binned\"] ]"
   ]
  },
  {
   "cell_type": "markdown",
   "id": "f1e80fea-b53f-43b2-bade-8d24e4a247de",
   "metadata": {},
   "source": [
    "# Exploratory Data Analysis\n"
   ]
  },
  {
   "cell_type": "markdown",
   "id": "272c5c48-99f4-42b5-86da-a41379b69a42",
   "metadata": {},
   "source": [
    "#### Descriptive statistics\n"
   ]
  },
  {
   "cell_type": "code",
   "execution_count": 146,
   "id": "57d3ca1b-dfbe-4dd8-a9aa-b58f7ea26368",
   "metadata": {},
   "outputs": [
    {
     "data": {
      "text/html": [
       "<div>\n",
       "<style scoped>\n",
       "    .dataframe tbody tr th:only-of-type {\n",
       "        vertical-align: middle;\n",
       "    }\n",
       "\n",
       "    .dataframe tbody tr th {\n",
       "        vertical-align: top;\n",
       "    }\n",
       "\n",
       "    .dataframe thead th {\n",
       "        text-align: right;\n",
       "    }\n",
       "</style>\n",
       "<table border=\"1\" class=\"dataframe\">\n",
       "  <thead>\n",
       "    <tr style=\"text-align: right;\">\n",
       "      <th></th>\n",
       "      <th>id</th>\n",
       "      <th>cgpa</th>\n",
       "      <th>iq</th>\n",
       "      <th>placement</th>\n",
       "    </tr>\n",
       "  </thead>\n",
       "  <tbody>\n",
       "    <tr>\n",
       "      <th>count</th>\n",
       "      <td>100.000000</td>\n",
       "      <td>100.000000</td>\n",
       "      <td>96.000000</td>\n",
       "      <td>9.600000e+01</td>\n",
       "    </tr>\n",
       "    <tr>\n",
       "      <th>mean</th>\n",
       "      <td>49.500000</td>\n",
       "      <td>0.510000</td>\n",
       "      <td>0.521370</td>\n",
       "      <td>6.013708e-17</td>\n",
       "    </tr>\n",
       "    <tr>\n",
       "      <th>std</th>\n",
       "      <td>29.011492</td>\n",
       "      <td>0.214838</td>\n",
       "      <td>0.166222</td>\n",
       "      <td>1.000000e+00</td>\n",
       "    </tr>\n",
       "    <tr>\n",
       "      <th>min</th>\n",
       "      <td>0.000000</td>\n",
       "      <td>0.000000</td>\n",
       "      <td>0.158798</td>\n",
       "      <td>-9.742649e-01</td>\n",
       "    </tr>\n",
       "    <tr>\n",
       "      <th>25%</th>\n",
       "      <td>24.750000</td>\n",
       "      <td>0.320000</td>\n",
       "      <td>0.424893</td>\n",
       "      <td>-9.742649e-01</td>\n",
       "    </tr>\n",
       "    <tr>\n",
       "      <th>50%</th>\n",
       "      <td>49.500000</td>\n",
       "      <td>0.510000</td>\n",
       "      <td>0.530043</td>\n",
       "      <td>-9.742649e-01</td>\n",
       "    </tr>\n",
       "    <tr>\n",
       "      <th>75%</th>\n",
       "      <td>74.250000</td>\n",
       "      <td>0.665000</td>\n",
       "      <td>0.616953</td>\n",
       "      <td>1.015723e+00</td>\n",
       "    </tr>\n",
       "    <tr>\n",
       "      <th>max</th>\n",
       "      <td>99.000000</td>\n",
       "      <td>1.000000</td>\n",
       "      <td>1.000000</td>\n",
       "      <td>1.015723e+00</td>\n",
       "    </tr>\n",
       "  </tbody>\n",
       "</table>\n",
       "</div>"
      ],
      "text/plain": [
       "               id        cgpa         iq     placement\n",
       "count  100.000000  100.000000  96.000000  9.600000e+01\n",
       "mean    49.500000    0.510000   0.521370  6.013708e-17\n",
       "std     29.011492    0.214838   0.166222  1.000000e+00\n",
       "min      0.000000    0.000000   0.158798 -9.742649e-01\n",
       "25%     24.750000    0.320000   0.424893 -9.742649e-01\n",
       "50%     49.500000    0.510000   0.530043 -9.742649e-01\n",
       "75%     74.250000    0.665000   0.616953  1.015723e+00\n",
       "max     99.000000    1.000000   1.000000  1.015723e+00"
      ]
     },
     "execution_count": 146,
     "metadata": {},
     "output_type": "execute_result"
    }
   ],
   "source": [
    "\n",
    "df.describe()"
   ]
  },
  {
   "cell_type": "code",
   "execution_count": 149,
   "id": "27bdc5ed-9a5a-459a-b8e3-6a8979e29ee9",
   "metadata": {},
   "outputs": [
    {
     "data": {
      "text/plain": [
       "id              int64\n",
       "cgpa          float64\n",
       "iq            float64\n",
       "placement     float64\n",
       "iq-binned    category\n",
       "dtype: object"
      ]
     },
     "execution_count": 149,
     "metadata": {},
     "output_type": "execute_result"
    }
   ],
   "source": [
    "df.dtypes"
   ]
  },
  {
   "cell_type": "markdown",
   "id": "17718086-a28c-4641-af97-e64b934a37cb",
   "metadata": {},
   "source": [
    "# Box plot"
   ]
  },
  {
   "cell_type": "markdown",
   "id": "d6b0a23b-d5d6-4135-a018-4fe2ca49a12a",
   "metadata": {},
   "source": [
    "#### import Library"
   ]
  },
  {
   "cell_type": "code",
   "execution_count": 157,
   "id": "6e99ee54-dba8-40d1-b0f7-db360f27bf48",
   "metadata": {},
   "outputs": [
    {
     "data": {
      "text/plain": [
       "<Axes: xlabel='placement', ylabel='iq'>"
      ]
     },
     "execution_count": 157,
     "metadata": {},
     "output_type": "execute_result"
    },
    {
     "data": {
      "image/png": "[encoded data removed]",
      "text/plain": [
       "<Figure size 640x480 with 1 Axes>"
      ]
     },
     "metadata": {},
     "output_type": "display_data"
    }
   ],
   "source": [
    "import seaborn as sns\n",
    "sns.boxplot(x=\"placement\", y = \"iq\", data = df)"
   ]
  },
  {
   "cell_type": "markdown",
   "id": "d6d7e33a-64d1-4848-9d5b-39439b88355f",
   "metadata": {},
   "source": [
    "# Scatter Plot"
   ]
  },
  {
   "cell_type": "markdown",
   "id": "e74ae580-7f14-4890-a78f-f5de4a096eb0",
   "metadata": {},
   "source": [
    "#### The iq is increasing as the cgpa increases\n"
   ]
  },
  {
   "cell_type": "code",
   "execution_count": 161,
   "id": "886e2cee-3c45-469e-b647-df66c5b78bba",
   "metadata": {},
   "outputs": [
    {
     "ename": "NameError",
     "evalue": "name 'mmplt' is not defined",
     "output_type": "error",
     "traceback": [
      "\u001b[1;31m---------------------------------------------------------------------------\u001b[0m",
      "\u001b[1;31mNameError\u001b[0m                                 Traceback (most recent call last)",
      "Cell \u001b[1;32mIn[161], line 4\u001b[0m\n\u001b[0;32m      2\u001b[0m plt\u001b[38;5;241m.\u001b[39mscatter(df[\u001b[38;5;124m\"\u001b[39m\u001b[38;5;124mcgpa\u001b[39m\u001b[38;5;124m\"\u001b[39m], df[\u001b[38;5;124m\"\u001b[39m\u001b[38;5;124miq\u001b[39m\u001b[38;5;124m\"\u001b[39m])\n\u001b[0;32m      3\u001b[0m plt\u001b[38;5;241m.\u001b[39mtitle(\u001b[38;5;124m\"\u001b[39m\u001b[38;5;124mRelationship b/w cgpa and iq\u001b[39m\u001b[38;5;124m\"\u001b[39m)\n\u001b[1;32m----> 4\u001b[0m mmplt\u001b[38;5;241m.\u001b[39mxlabel(\u001b[38;5;124m\"\u001b[39m\u001b[38;5;124mcgpa\u001b[39m\u001b[38;5;124m\"\u001b[39m)\n\u001b[0;32m      5\u001b[0m plt\u001b[38;5;241m.\u001b[39mylabel(\u001b[38;5;124m\"\u001b[39m\u001b[38;5;124miq\u001b[39m\u001b[38;5;124m\"\u001b[39m)\n",
      "\u001b[1;31mNameError\u001b[0m: name 'mmplt' is not defined"
     ]
    },
    {
     "data": {
      "image/png": "[encoded data removed]",
      "text/plain": [
       "<Figure size 640x480 with 1 Axes>"
      ]
     },
     "metadata": {},
     "output_type": "display_data"
    }
   ],
   "source": [
    "\n",
    "import matplotlib.pyplot as plt\n",
    "plt.scatter(df[\"cgpa\"], df[\"iq\"])\n",
    "plt.title(\"Relationship b/w cgpa and iq\")\n",
    "mmplt.xlabel(\"cgpa\")\n",
    "plt.ylabel(\"iq\")"
   ]
  },
  {
   "cell_type": "markdown",
   "id": "edc4532c-9f9f-44e7-8d2a-384e63b3b716",
   "metadata": {},
   "source": [
    "### Preprocessing"
   ]
  },
  {
   "cell_type": "markdown",
   "id": "0cbaffdc-df4b-4716-95f6-4089f2967006",
   "metadata": {},
   "source": [
    "##### Check highway-mpg and price column\n",
    "##### Should be numeric\n",
    "##### Should not contain any missing data"
   ]
  },
  {
   "cell_type": "code",
   "execution_count": 182,
   "id": "59c31166-ba17-4164-96e1-d4143a19f698",
   "metadata": {},
   "outputs": [
    {
     "data": {
      "text/plain": [
       "0     0.66\n",
       "1     0.48\n",
       "2     0.51\n",
       "3     0.51\n",
       "4     0.46\n",
       "      ... \n",
       "95    0.16\n",
       "96    0.18\n",
       "97    0.64\n",
       "98    0.56\n",
       "99    0.54\n",
       "Name: cgpa, Length: 100, dtype: float64"
      ]
     },
     "execution_count": 182,
     "metadata": {},
     "output_type": "execute_result"
    }
   ],
   "source": [
    "# Consider cgpa for iq prediction\n",
    "df[\"cgpa\"]"
   ]
  },
  {
   "cell_type": "code",
   "execution_count": 184,
   "id": "aa295b82-601b-4faf-9267-8ea95c17f42d",
   "metadata": {},
   "outputs": [
    {
     "data": {
      "text/plain": [
       "0"
      ]
     },
     "execution_count": 184,
     "metadata": {},
     "output_type": "execute_result"
    }
   ],
   "source": [
    "# Check missing values\n",
    "df[\"cgpa\"].isnull().sum()"
   ]
  },
  {
   "cell_type": "code",
   "execution_count": 186,
   "id": "87416c28-73e6-433d-8a69-7b2a59bf5ea4",
   "metadata": {},
   "outputs": [
    {
     "data": {
      "text/plain": [
       "dtype('float64')"
      ]
     },
     "execution_count": 186,
     "metadata": {},
     "output_type": "execute_result"
    }
   ],
   "source": [
    "# Check for iq column\n",
    "df[\"iq\"].dtype"
   ]
  },
  {
   "cell_type": "code",
   "execution_count": 188,
   "id": "5a3e1afc-89ab-4adb-93a6-4fb9d909597f",
   "metadata": {},
   "outputs": [],
   "source": [
    "# Convert iq column to numeric\n",
    "df[\"iq\"].replace(\"?\", np.nan, inplace = True)\n",
    "df[\"iq\"] = pd.to_numeric(df[\"iq\"])"
   ]
  },
  {
   "cell_type": "code",
   "execution_count": 190,
   "id": "4bcd85b7-a326-4be6-866b-6b102d9cbc6c",
   "metadata": {},
   "outputs": [
    {
     "data": {
      "text/plain": [
       "4"
      ]
     },
     "execution_count": 190,
     "metadata": {},
     "output_type": "execute_result"
    }
   ],
   "source": [
    "# Check for missing values in iq column\n",
    "df[\"iq\"].isnull().sum()"
   ]
  },
  {
   "cell_type": "code",
   "execution_count": 192,
   "id": "b1d8c4f7-5a19-4549-911a-50208845b13f",
   "metadata": {},
   "outputs": [],
   "source": [
    "# Drop missing values rows\n",
    "df.dropna(subset=[\"iq\"], axis=0, inplace = True)"
   ]
  },
  {
   "cell_type": "code",
   "execution_count": 194,
   "id": "7599b821-6dcd-414f-bbc2-d82dbcec009a",
   "metadata": {},
   "outputs": [
    {
     "data": {
      "text/plain": [
       "0"
      ]
     },
     "execution_count": 194,
     "metadata": {},
     "output_type": "execute_result"
    }
   ],
   "source": [
    "# Check for missing values in iq column\n",
    "df[\"iq\"].isnull().sum()"
   ]
  },
  {
   "cell_type": "markdown",
   "id": "a89f995a-451e-4fa4-afa9-5db2233736c0",
   "metadata": {},
   "source": [
    "# Using Scikit Learn Library for Linear Regression"
   ]
  },
  {
   "cell_type": "markdown",
   "id": "32e52759-ef39-498e-b1c5-386d07db1d1a",
   "metadata": {},
   "source": [
    "#### Import Linear Model from Scikit Learn\n"
   ]
  },
  {
   "cell_type": "code",
   "execution_count": 198,
   "id": "a763e1c3-0a4e-4448-bd3f-d898ffa45027",
   "metadata": {},
   "outputs": [],
   "source": [
    "\n",
    "from sklearn.linear_model import LinearRegression"
   ]
  },
  {
   "cell_type": "markdown",
   "id": "650921a9-710e-44c4-9969-62ff8a543b35",
   "metadata": {},
   "source": [
    "#### Create a Linear Regression Object\n"
   ]
  },
  {
   "cell_type": "code",
   "execution_count": 201,
   "id": "a53e0971-bffa-4927-b6eb-c8775bab60a5",
   "metadata": {},
   "outputs": [],
   "source": [
    "linear_model = LinearRegression()"
   ]
  },
  {
   "cell_type": "markdown",
   "id": "26a1a582-7d6c-44ed-875c-fe4e89ca5a0d",
   "metadata": {},
   "source": [
    "#### Define X as feature set and Y as target variable\n"
   ]
  },
  {
   "cell_type": "code",
   "execution_count": 204,
   "id": "ac023774-93d1-4d8c-8f7f-c0a7feeb1b8a",
   "metadata": {},
   "outputs": [],
   "source": [
    "X = df[ [\"cgpa\"] ]\n",
    "Y = df[\"iq\"]"
   ]
  },
  {
   "cell_type": "markdown",
   "id": "a88fb28f-e1bb-481c-b991-5e0247532e84",
   "metadata": {},
   "source": [
    "#### Model Fit\n"
   ]
  },
  {
   "cell_type": "code",
   "execution_count": 207,
   "id": "58e18165-90b8-4643-9af3-aeb3eb630d03",
   "metadata": {},
   "outputs": [
    {
     "data": {
      "text/html": [
       "<style>#sk-container-id-1 {\n",
       "  /* Definition of color scheme common for light and dark mode */\n",
       "  --sklearn-color-text: black;\n",
       "  --sklearn-color-line: gray;\n",
       "  /* Definition of color scheme for unfitted estimators */\n",
       "  --sklearn-color-unfitted-level-0: #fff5e6;\n",
       "  --sklearn-color-unfitted-level-1: #f6e4d2;\n",
       "  --sklearn-color-unfitted-level-2: #ffe0b3;\n",
       "  --sklearn-color-unfitted-level-3: chocolate;\n",
       "  /* Definition of color scheme for fitted estimators */\n",
       "  --sklearn-color-fitted-level-0: #f0f8ff;\n",
       "  --sklearn-color-fitted-level-1: #d4ebff;\n",
       "  --sklearn-color-fitted-level-2: #b3dbfd;\n",
       "  --sklearn-color-fitted-level-3: cornflowerblue;\n",
       "\n",
       "  /* Specific color for light theme */\n",
       "  --sklearn-color-text-on-default-background: var(--sg-text-color, var(--theme-code-foreground, var(--jp-content-font-color1, black)));\n",
       "  --sklearn-color-background: var(--sg-background-color, var(--theme-background, var(--jp-layout-color0, white)));\n",
       "  --sklearn-color-border-box: var(--sg-text-color, var(--theme-code-foreground, var(--jp-content-font-color1, black)));\n",
       "  --sklearn-color-icon: #696969;\n",
       "\n",
       "  @media (prefers-color-scheme: dark) {\n",
       "    /* Redefinition of color scheme for dark theme */\n",
       "    --sklearn-color-text-on-default-background: var(--sg-text-color, var(--theme-code-foreground, var(--jp-content-font-color1, white)));\n",
       "    --sklearn-color-background: var(--sg-background-color, var(--theme-background, var(--jp-layout-color0, #111)));\n",
       "    --sklearn-color-border-box: var(--sg-text-color, var(--theme-code-foreground, var(--jp-content-font-color1, white)));\n",
       "    --sklearn-color-icon: #878787;\n",
       "  }\n",
       "}\n",
       "\n",
       "#sk-container-id-1 {\n",
       "  color: var(--sklearn-color-text);\n",
       "}\n",
       "\n",
       "#sk-container-id-1 pre {\n",
       "  padding: 0;\n",
       "}\n",
       "\n",
       "#sk-container-id-1 input.sk-hidden--visually {\n",
       "  border: 0;\n",
       "  clip: rect(1px 1px 1px 1px);\n",
       "  clip: rect(1px, 1px, 1px, 1px);\n",
       "  height: 1px;\n",
       "  margin: -1px;\n",
       "  overflow: hidden;\n",
       "  padding: 0;\n",
       "  position: absolute;\n",
       "  width: 1px;\n",
       "}\n",
       "\n",
       "#sk-container-id-1 div.sk-dashed-wrapped {\n",
       "  border: 1px dashed var(--sklearn-color-line);\n",
       "  margin: 0 0.4em 0.5em 0.4em;\n",
       "  box-sizing: border-box;\n",
       "  padding-bottom: 0.4em;\n",
       "  background-color: var(--sklearn-color-background);\n",
       "}\n",
       "\n",
       "#sk-container-id-1 div.sk-container {\n",
       "  /* jupyter's `normalize.less` sets `[hidden] { display: none; }`\n",
       "     but bootstrap.min.css set `[hidden] { display: none !important; }`\n",
       "     so we also need the `!important` here to be able to override the\n",
       "     default hidden behavior on the sphinx rendered scikit-learn.org.\n",
       "     See: https://github.com/scikit-learn/scikit-learn/issues/21755 */\n",
       "  display: inline-block !important;\n",
       "  position: relative;\n",
       "}\n",
       "\n",
       "#sk-container-id-1 div.sk-text-repr-fallback {\n",
       "  display: none;\n",
       "}\n",
       "\n",
       "div.sk-parallel-item,\n",
       "div.sk-serial,\n",
       "div.sk-item {\n",
       "  /* draw centered vertical line to link estimators */\n",
       "  background-image: linear-gradient(var(--sklearn-color-text-on-default-background), var(--sklearn-color-text-on-default-background));\n",
       "  background-size: 2px 100%;\n",
       "  background-repeat: no-repeat;\n",
       "  background-position: center center;\n",
       "}\n",
       "\n",
       "/* Parallel-specific style estimator block */\n",
       "\n",
       "#sk-container-id-1 div.sk-parallel-item::after {\n",
       "  content: \"\";\n",
       "  width: 100%;\n",
       "  border-bottom: 2px solid var(--sklearn-color-text-on-default-background);\n",
       "  flex-grow: 1;\n",
       "}\n",
       "\n",
       "#sk-container-id-1 div.sk-parallel {\n",
       "  display: flex;\n",
       "  align-items: stretch;\n",
       "  justify-content: center;\n",
       "  background-color: var(--sklearn-color-background);\n",
       "  position: relative;\n",
       "}\n",
       "\n",
       "#sk-container-id-1 div.sk-parallel-item {\n",
       "  display: flex;\n",
       "  flex-direction: column;\n",
       "}\n",
       "\n",
       "#sk-container-id-1 div.sk-parallel-item:first-child::after {\n",
       "  align-self: flex-end;\n",
       "  width: 50%;\n",
       "}\n",
       "\n",
       "#sk-container-id-1 div.sk-parallel-item:last-child::after {\n",
       "  align-self: flex-start;\n",
       "  width: 50%;\n",
       "}\n",
       "\n",
       "#sk-container-id-1 div.sk-parallel-item:only-child::after {\n",
       "  width: 0;\n",
       "}\n",
       "\n",
       "/* Serial-specific style estimator block */\n",
       "\n",
       "#sk-container-id-1 div.sk-serial {\n",
       "  display: flex;\n",
       "  flex-direction: column;\n",
       "  align-items: center;\n",
       "  background-color: var(--sklearn-color-background);\n",
       "  padding-right: 1em;\n",
       "  padding-left: 1em;\n",
       "}\n",
       "\n",
       "\n",
       "/* Toggleable style: style used for estimator/Pipeline/ColumnTransformer box that is\n",
       "clickable and can be expanded/collapsed.\n",
       "- Pipeline and ColumnTransformer use this feature and define the default style\n",
       "- Estimators will overwrite some part of the style using the `sk-estimator` class\n",
       "*/\n",
       "\n",
       "/* Pipeline and ColumnTransformer style (default) */\n",
       "\n",
       "#sk-container-id-1 div.sk-toggleable {\n",
       "  /* Default theme specific background. It is overwritten whether we have a\n",
       "  specific estimator or a Pipeline/ColumnTransformer */\n",
       "  background-color: var(--sklearn-color-background);\n",
       "}\n",
       "\n",
       "/* Toggleable label */\n",
       "#sk-container-id-1 label.sk-toggleable__label {\n",
       "  cursor: pointer;\n",
       "  display: block;\n",
       "  width: 100%;\n",
       "  margin-bottom: 0;\n",
       "  padding: 0.5em;\n",
       "  box-sizing: border-box;\n",
       "  text-align: center;\n",
       "}\n",
       "\n",
       "#sk-container-id-1 label.sk-toggleable__label-arrow:before {\n",
       "  /* Arrow on the left of the label */\n",
       "  content: \"▸\";\n",
       "  float: left;\n",
       "  margin-right: 0.25em;\n",
       "  color: var(--sklearn-color-icon);\n",
       "}\n",
       "\n",
       "#sk-container-id-1 label.sk-toggleable__label-arrow:hover:before {\n",
       "  color: var(--sklearn-color-text);\n",
       "}\n",
       "\n",
       "/* Toggleable content - dropdown */\n",
       "\n",
       "#sk-container-id-1 div.sk-toggleable__content {\n",
       "  max-height: 0;\n",
       "  max-width: 0;\n",
       "  overflow: hidden;\n",
       "  text-align: left;\n",
       "  /* unfitted */\n",
       "  background-color: var(--sklearn-color-unfitted-level-0);\n",
       "}\n",
       "\n",
       "#sk-container-id-1 div.sk-toggleable__content.fitted {\n",
       "  /* fitted */\n",
       "  background-color: var(--sklearn-color-fitted-level-0);\n",
       "}\n",
       "\n",
       "#sk-container-id-1 div.sk-toggleable__content pre {\n",
       "  margin: 0.2em;\n",
       "  border-radius: 0.25em;\n",
       "  color: var(--sklearn-color-text);\n",
       "  /* unfitted */\n",
       "  background-color: var(--sklearn-color-unfitted-level-0);\n",
       "}\n",
       "\n",
       "#sk-container-id-1 div.sk-toggleable__content.fitted pre {\n",
       "  /* unfitted */\n",
       "  background-color: var(--sklearn-color-fitted-level-0);\n",
       "}\n",
       "\n",
       "#sk-container-id-1 input.sk-toggleable__control:checked~div.sk-toggleable__content {\n",
       "  /* Expand drop-down */\n",
       "  max-height: 200px;\n",
       "  max-width: 100%;\n",
       "  overflow: auto;\n",
       "}\n",
       "\n",
       "#sk-container-id-1 input.sk-toggleable__control:checked~label.sk-toggleable__label-arrow:before {\n",
       "  content: \"▾\";\n",
       "}\n",
       "\n",
       "/* Pipeline/ColumnTransformer-specific style */\n",
       "\n",
       "#sk-container-id-1 div.sk-label input.sk-toggleable__control:checked~label.sk-toggleable__label {\n",
       "  color: var(--sklearn-color-text);\n",
       "  background-color: var(--sklearn-color-unfitted-level-2);\n",
       "}\n",
       "\n",
       "#sk-container-id-1 div.sk-label.fitted input.sk-toggleable__control:checked~label.sk-toggleable__label {\n",
       "  background-color: var(--sklearn-color-fitted-level-2);\n",
       "}\n",
       "\n",
       "/* Estimator-specific style */\n",
       "\n",
       "/* Colorize estimator box */\n",
       "#sk-container-id-1 div.sk-estimator input.sk-toggleable__control:checked~label.sk-toggleable__label {\n",
       "  /* unfitted */\n",
       "  background-color: var(--sklearn-color-unfitted-level-2);\n",
       "}\n",
       "\n",
       "#sk-container-id-1 div.sk-estimator.fitted input.sk-toggleable__control:checked~label.sk-toggleable__label {\n",
       "  /* fitted */\n",
       "  background-color: var(--sklearn-color-fitted-level-2);\n",
       "}\n",
       "\n",
       "#sk-container-id-1 div.sk-label label.sk-toggleable__label,\n",
       "#sk-container-id-1 div.sk-label label {\n",
       "  /* The background is the default theme color */\n",
       "  color: var(--sklearn-color-text-on-default-background);\n",
       "}\n",
       "\n",
       "/* On hover, darken the color of the background */\n",
       "#sk-container-id-1 div.sk-label:hover label.sk-toggleable__label {\n",
       "  color: var(--sklearn-color-text);\n",
       "  background-color: var(--sklearn-color-unfitted-level-2);\n",
       "}\n",
       "\n",
       "/* Label box, darken color on hover, fitted */\n",
       "#sk-container-id-1 div.sk-label.fitted:hover label.sk-toggleable__label.fitted {\n",
       "  color: var(--sklearn-color-text);\n",
       "  background-color: var(--sklearn-color-fitted-level-2);\n",
       "}\n",
       "\n",
       "/* Estimator label */\n",
       "\n",
       "#sk-container-id-1 div.sk-label label {\n",
       "  font-family: monospace;\n",
       "  font-weight: bold;\n",
       "  display: inline-block;\n",
       "  line-height: 1.2em;\n",
       "}\n",
       "\n",
       "#sk-container-id-1 div.sk-label-container {\n",
       "  text-align: center;\n",
       "}\n",
       "\n",
       "/* Estimator-specific */\n",
       "#sk-container-id-1 div.sk-estimator {\n",
       "  font-family: monospace;\n",
       "  border: 1px dotted var(--sklearn-color-border-box);\n",
       "  border-radius: 0.25em;\n",
       "  box-sizing: border-box;\n",
       "  margin-bottom: 0.5em;\n",
       "  /* unfitted */\n",
       "  background-color: var(--sklearn-color-unfitted-level-0);\n",
       "}\n",
       "\n",
       "#sk-container-id-1 div.sk-estimator.fitted {\n",
       "  /* fitted */\n",
       "  background-color: var(--sklearn-color-fitted-level-0);\n",
       "}\n",
       "\n",
       "/* on hover */\n",
       "#sk-container-id-1 div.sk-estimator:hover {\n",
       "  /* unfitted */\n",
       "  background-color: var(--sklearn-color-unfitted-level-2);\n",
       "}\n",
       "\n",
       "#sk-container-id-1 div.sk-estimator.fitted:hover {\n",
       "  /* fitted */\n",
       "  background-color: var(--sklearn-color-fitted-level-2);\n",
       "}\n",
       "\n",
       "/* Specification for estimator info (e.g. \"i\" and \"?\") */\n",
       "\n",
       "/* Common style for \"i\" and \"?\" */\n",
       "\n",
       ".sk-estimator-doc-link,\n",
       "a:link.sk-estimator-doc-link,\n",
       "a:visited.sk-estimator-doc-link {\n",
       "  float: right;\n",
       "  font-size: smaller;\n",
       "  line-height: 1em;\n",
       "  font-family: monospace;\n",
       "  background-color: var(--sklearn-color-background);\n",
       "  border-radius: 1em;\n",
       "  height: 1em;\n",
       "  width: 1em;\n",
       "  text-decoration: none !important;\n",
       "  margin-left: 1ex;\n",
       "  /* unfitted */\n",
       "  border: var(--sklearn-color-unfitted-level-1) 1pt solid;\n",
       "  color: var(--sklearn-color-unfitted-level-1);\n",
       "}\n",
       "\n",
       ".sk-estimator-doc-link.fitted,\n",
       "a:link.sk-estimator-doc-link.fitted,\n",
       "a:visited.sk-estimator-doc-link.fitted {\n",
       "  /* fitted */\n",
       "  border: var(--sklearn-color-fitted-level-1) 1pt solid;\n",
       "  color: var(--sklearn-color-fitted-level-1);\n",
       "}\n",
       "\n",
       "/* On hover */\n",
       "div.sk-estimator:hover .sk-estimator-doc-link:hover,\n",
       ".sk-estimator-doc-link:hover,\n",
       "div.sk-label-container:hover .sk-estimator-doc-link:hover,\n",
       ".sk-estimator-doc-link:hover {\n",
       "  /* unfitted */\n",
       "  background-color: var(--sklearn-color-unfitted-level-3);\n",
       "  color: var(--sklearn-color-background);\n",
       "  text-decoration: none;\n",
       "}\n",
       "\n",
       "div.sk-estimator.fitted:hover .sk-estimator-doc-link.fitted:hover,\n",
       ".sk-estimator-doc-link.fitted:hover,\n",
       "div.sk-label-container:hover .sk-estimator-doc-link.fitted:hover,\n",
       ".sk-estimator-doc-link.fitted:hover {\n",
       "  /* fitted */\n",
       "  background-color: var(--sklearn-color-fitted-level-3);\n",
       "  color: var(--sklearn-color-background);\n",
       "  text-decoration: none;\n",
       "}\n",
       "\n",
       "/* Span, style for the box shown on hovering the info icon */\n",
       ".sk-estimator-doc-link span {\n",
       "  display: none;\n",
       "  z-index: 9999;\n",
       "  position: relative;\n",
       "  font-weight: normal;\n",
       "  right: .2ex;\n",
       "  padding: .5ex;\n",
       "  margin: .5ex;\n",
       "  width: min-content;\n",
       "  min-width: 20ex;\n",
       "  max-width: 50ex;\n",
       "  color: var(--sklearn-color-text);\n",
       "  box-shadow: 2pt 2pt 4pt #999;\n",
       "  /* unfitted */\n",
       "  background: var(--sklearn-color-unfitted-level-0);\n",
       "  border: .5pt solid var(--sklearn-color-unfitted-level-3);\n",
       "}\n",
       "\n",
       ".sk-estimator-doc-link.fitted span {\n",
       "  /* fitted */\n",
       "  background: var(--sklearn-color-fitted-level-0);\n",
       "  border: var(--sklearn-color-fitted-level-3);\n",
       "}\n",
       "\n",
       ".sk-estimator-doc-link:hover span {\n",
       "  display: block;\n",
       "}\n",
       "\n",
       "/* \"?\"-specific style due to the `<a>` HTML tag */\n",
       "\n",
       "#sk-container-id-1 a.estimator_doc_link {\n",
       "  float: right;\n",
       "  font-size: 1rem;\n",
       "  line-height: 1em;\n",
       "  font-family: monospace;\n",
       "  background-color: var(--sklearn-color-background);\n",
       "  border-radius: 1rem;\n",
       "  height: 1rem;\n",
       "  width: 1rem;\n",
       "  text-decoration: none;\n",
       "  /* unfitted */\n",
       "  color: var(--sklearn-color-unfitted-level-1);\n",
       "  border: var(--sklearn-color-unfitted-level-1) 1pt solid;\n",
       "}\n",
       "\n",
       "#sk-container-id-1 a.estimator_doc_link.fitted {\n",
       "  /* fitted */\n",
       "  border: var(--sklearn-color-fitted-level-1) 1pt solid;\n",
       "  color: var(--sklearn-color-fitted-level-1);\n",
       "}\n",
       "\n",
       "/* On hover */\n",
       "#sk-container-id-1 a.estimator_doc_link:hover {\n",
       "  /* unfitted */\n",
       "  background-color: var(--sklearn-color-unfitted-level-3);\n",
       "  color: var(--sklearn-color-background);\n",
       "  text-decoration: none;\n",
       "}\n",
       "\n",
       "#sk-container-id-1 a.estimator_doc_link.fitted:hover {\n",
       "  /* fitted */\n",
       "  background-color: var(--sklearn-color-fitted-level-3);\n",
       "}\n",
       "</style><div id=\"sk-container-id-1\" class=\"sk-top-container\"><div class=\"sk-text-repr-fallback\"><pre>LinearRegression()</pre><b>In a Jupyter environment, please rerun this cell to show the HTML representation or trust the notebook. <br />On GitHub, the HTML representation is unable to render, please try loading this page with nbviewer.org.</b></div><div class=\"sk-container\" hidden><div class=\"sk-item\"><div class=\"sk-estimator fitted sk-toggleable\"><input class=\"sk-toggleable__control sk-hidden--visually\" id=\"sk-estimator-id-1\" type=\"checkbox\" checked><label for=\"sk-estimator-id-1\" class=\"sk-toggleable__label fitted sk-toggleable__label-arrow fitted\">&nbsp;&nbsp;LinearRegression<a class=\"sk-estimator-doc-link fitted\" rel=\"noreferrer\" target=\"_blank\" href=\"https://scikit-learn.org/1.4/modules/generated/sklearn.linear_model.LinearRegression.html\">?<span>Documentation for LinearRegression</span></a><span class=\"sk-estimator-doc-link fitted\">i<span>Fitted</span></span></label><div class=\"sk-toggleable__content fitted\"><pre>LinearRegression()</pre></div> </div></div></div></div>"
      ],
      "text/plain": [
       "LinearRegression()"
      ]
     },
     "execution_count": 207,
     "metadata": {},
     "output_type": "execute_result"
    }
   ],
   "source": [
    "linear_model.fit(X,Y)"
   ]
  },
  {
   "cell_type": "code",
   "execution_count": 209,
   "id": "a2a41021-8a88-4214-b530-3082174ef69c",
   "metadata": {},
   "outputs": [
    {
     "name": "stdout",
     "output_type": "stream",
     "text": [
      "c_0 =  0.5494994490659469\n",
      "c_1 =  [-0.0555076]\n"
     ]
    }
   ],
   "source": [
    "print(\"c_0 = \", linear_model.intercept_)\n",
    "print(\"c_1 = \", linear_model.coef_)"
   ]
  },
  {
   "cell_type": "code",
   "execution_count": 211,
   "id": "203c9ed5-bc9b-4570-b1a8-7cea587b4969",
   "metadata": {},
   "outputs": [
    {
     "ename": "NameError",
     "evalue": "name 'c0' is not defined",
     "output_type": "error",
     "traceback": [
      "\u001b[1;31m---------------------------------------------------------------------------\u001b[0m",
      "\u001b[1;31mNameError\u001b[0m                                 Traceback (most recent call last)",
      "Cell \u001b[1;32mIn[211], line 1\u001b[0m\n\u001b[1;32m----> 1\u001b[0m Predicted_iq \u001b[38;5;241m=\u001b[39m c0 \u001b[38;5;241m+\u001b[39m c1 \u001b[38;5;241m*\u001b[39m cgpa\n\u001b[0;32m      2\u001b[0m c0 \u001b[38;5;241m=\u001b[39m \u001b[38;5;241m38423.305858157386\u001b[39m\n\u001b[0;32m      3\u001b[0m c1 \u001b[38;5;241m=\u001b[39m \u001b[38;5;241m-\u001b[39m\u001b[38;5;241m821.73337832\u001b[39m\n",
      "\u001b[1;31mNameError\u001b[0m: name 'c0' is not defined"
     ]
    }
   ],
   "source": [
    "Predicted_iq = c0 + c1 * cgpa\n",
    "c0 = 38423.305858157386\n",
    "c1 = -821.73337832\n",
    "\n",
    "So,\n",
    "Predicted_iq = 38423.305 - 821.73 * cgpa"
   ]
  },
  {
   "cell_type": "markdown",
   "id": "5be1fa3c-25a1-4607-bbde-934ce446ffe6",
   "metadata": {},
   "source": [
    "#### Predict Price for Unknown Value of Highway-mpg"
   ]
  },
  {
   "cell_type": "code",
   "execution_count": 218,
   "id": "562b9b11-7e51-49e6-b275-41cd4e6677a1",
   "metadata": {},
   "outputs": [
    {
     "name": "stderr",
     "output_type": "stream",
     "text": [
      "C:\\Users\\HAFIZ TECH\\anaconda3\\Lib\\site-packages\\sklearn\\base.py:493: UserWarning: X does not have valid feature names, but LinearRegression was fitted with feature names\n",
      "  warnings.warn(\n"
     ]
    },
    {
     "data": {
      "text/plain": [
       "array([-5.00126101])"
      ]
     },
     "execution_count": 218,
     "metadata": {},
     "output_type": "execute_result"
    }
   ],
   "source": [
    "# Predict iq  for cgpa = 30\n",
    "linear_model.predict(np.array([[100]]))"
   ]
  },
  {
   "cell_type": "code",
   "execution_count": null,
   "id": "32217e22-02b3-42ac-9bb0-22543e43b553",
   "metadata": {},
   "outputs": [],
   "source": []
  }
 ],
 "metadata": {
  "kernelspec": {
   "display_name": "Python 3 (ipykernel)",
   "language": "python",
   "name": "python3"
  },
  "language_info": {
   "codemirror_mode": {
    "name": "ipython",
    "version": 3
   },
   "file_extension": ".py",
   "mimetype": "text/x-python",
   "name": "python",
   "nbconvert_exporter": "python",
   "pygments_lexer": "ipython3",
   "version": "3.12.4"
  }
 },
 "nbformat": 4,
 "nbformat_minor": 5
}
